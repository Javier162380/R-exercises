{
 "cells": [
  {
   "cell_type": "code",
   "execution_count": 20,
   "metadata": {},
   "outputs": [],
   "source": [
    "import pandas as pd"
   ]
  },
  {
   "cell_type": "code",
   "execution_count": 21,
   "metadata": {},
   "outputs": [
    {
     "name": "stdout",
     "output_type": "stream",
     "text": [
      "       chocolate     fruity    caramel  peanutyalmondy     nougat  \\\n",
      "count  85.000000  85.000000  85.000000       85.000000  85.000000   \n",
      "mean    0.435294   0.447059   0.164706        0.164706   0.082353   \n",
      "std     0.498738   0.500140   0.373116        0.373116   0.276533   \n",
      "min     0.000000   0.000000   0.000000        0.000000   0.000000   \n",
      "25%     0.000000   0.000000   0.000000        0.000000   0.000000   \n",
      "50%     0.000000   0.000000   0.000000        0.000000   0.000000   \n",
      "75%     1.000000   1.000000   0.000000        0.000000   0.000000   \n",
      "max     1.000000   1.000000   1.000000        1.000000   1.000000   \n",
      "\n",
      "       crispedricewafer       hard        bar   pluribus  sugarpercent  \\\n",
      "count         85.000000  85.000000  85.000000  85.000000     85.000000   \n",
      "mean           0.082353   0.176471   0.247059   0.517647      0.478647   \n",
      "std            0.276533   0.383482   0.433861   0.502654      0.282778   \n",
      "min            0.000000   0.000000   0.000000   0.000000      0.011000   \n",
      "25%            0.000000   0.000000   0.000000   0.000000      0.220000   \n",
      "50%            0.000000   0.000000   0.000000   1.000000      0.465000   \n",
      "75%            0.000000   0.000000   0.000000   1.000000      0.732000   \n",
      "max            1.000000   1.000000   1.000000   1.000000      0.988000   \n",
      "\n",
      "       pricepercent  winpercent  \n",
      "count     85.000000   85.000000  \n",
      "mean       0.468882   50.316764  \n",
      "std        0.285740   14.714357  \n",
      "min        0.011000   22.445341  \n",
      "25%        0.255000   39.141056  \n",
      "50%        0.465000   47.829754  \n",
      "75%        0.651000   59.863998  \n",
      "max        0.976000   84.180290  \n",
      "  competitorname  chocolate  fruity  caramel  peanutyalmondy  nougat  \\\n",
      "0      100 Grand          1       0        1               0       0   \n",
      "1   3 Musketeers          1       0        0               0       1   \n",
      "2       One dime          0       0        0               0       0   \n",
      "3    One quarter          0       0        0               0       0   \n",
      "4      Air Heads          0       1        0               0       0   \n",
      "\n",
      "   crispedricewafer  hard  bar  pluribus  sugarpercent  pricepercent  \\\n",
      "0                 1     0    1         0         0.732         0.860   \n",
      "1                 0     0    1         0         0.604         0.511   \n",
      "2                 0     0    0         0         0.011         0.116   \n",
      "3                 0     0    0         0         0.011         0.511   \n",
      "4                 0     0    0         0         0.906         0.511   \n",
      "\n",
      "   winpercent  \n",
      "0   66.971725  \n",
      "1   67.602936  \n",
      "2   32.261086  \n",
      "3   46.116505  \n",
      "4   52.341465  \n"
     ]
    }
   ],
   "source": [
    "candy_data = pd.read_csv('candy-data.csv')\n",
    "print(candy_data.describe())\n",
    "print(candy_data.head())"
   ]
  },
  {
   "cell_type": "code",
   "execution_count": 24,
   "metadata": {},
   "outputs": [],
   "source": [
    "#como tenemos gran parte de variables categorícas realizaremos una regressión logística que nos ayude a diferenciar\n",
    "#entre caramelos ganadores y caramelos perdedores.\n",
    "def pricequantiles(x):\n",
    "    if x>=0 and x<=0.222:\n",
    "        return 0\n",
    "    elif x>0.222 and x<=0.465:\n",
    "        return 1\n",
    "    elif x>0.465 and x<=0.651:\n",
    "        return 2\n",
    "    elif x>0.651:\n",
    "        return 3\n",
    "    \n",
    "def sugarquantiles(x):\n",
    "    if x>=0 and x<=0.255:\n",
    "        return 0\n",
    "    elif x>0.255 and x<=0.465:\n",
    "        return 1\n",
    "    elif x>0.465 and x<=0.732000:\n",
    "        return 2\n",
    "    elif x>0.732000:\n",
    "        return 3\n",
    "    \n",
    "def pricemedium(x):\n",
    "    if x<=0.468882:\n",
    "        return 0\n",
    "    else:\n",
    "        return 1\n",
    "\n",
    "def sugarmedium(x):\n",
    "    if x<=0.478647:\n",
    "        return 0\n",
    "    else:\n",
    "        return 1 \n",
    "def winpercent(x):\n",
    "    if x<50:\n",
    "        return 0\n",
    "    elif x>=50:\n",
    "        return 1\n",
    "\n",
    "candy_data['pricequantiles'] = candy_data['pricepercent'].apply(lambda x:pricequantiles(x))\n",
    "candy_data['pricemedium'] = candy_data['pricepercent'].apply(lambda x: pricemedium(x))\n",
    "candy_data['sugarquantiles'] = candy_data['sugarpercent'].apply(lambda x:sugarquantiles(x))\n",
    "candy_data['sugarmedium'] = candy_data['sugarpercent'].apply(lambda x:sugarmedium(x))\n",
    "candy_data['looseorwin'] = candy_data['winpercent'].apply(lambda x:winpercent(x))"
   ]
  },
  {
   "cell_type": "code",
   "execution_count": 26,
   "metadata": {},
   "outputs": [
    {
     "name": "stdout",
     "output_type": "stream",
     "text": [
      "[[1, 0, 1, 1, 0, 1, 1], [1, 0, 0, 0, 0, 1, 1], [0, 0, 0, 0, 0, 0, 0], [0, 0, 0, 0, 0, 1, 0], [0, 1, 0, 0, 0, 1, 1], [1, 0, 0, 0, 0, 1, 0], [1, 0, 1, 0, 0, 1, 1], [0, 0, 0, 0, 0, 1, 0], [0, 0, 0, 0, 0, 0, 1], [0, 1, 1, 0, 0, 0, 1]]\n",
      "[[1], [1], [0], [0], [1], [1], [1], [0], [0], [0]]\n"
     ]
    }
   ],
   "source": [
    "#dividimos las variables x e y.\n",
    "X_values = candy_data.filter(['chocolate','fruity','caramel','peanutyalmondy'\n",
    "                           'nougat','crispedricewafer','hard','bar'\n",
    "                           'pluribus','pricemedium','sugarmedium'], axis=1).values.tolist()\n",
    "print(X_values[:10])\n",
    "Y_values = candy_data.filter(['looseorwin'], axis=1).values.tolist()\n",
    "print(Y_values[:10])\n"
   ]
  },
  {
   "cell_type": "code",
   "execution_count": 31,
   "metadata": {},
   "outputs": [
    {
     "name": "stdout",
     "output_type": "stream",
     "text": [
      "[[1, 0, 0, 0, 0, 0, 0], [0, 1, 0, 0, 1, 0, 1], [0, 1, 0, 0, 1, 0, 0], [1, 0, 0, 0, 0, 1, 0], [1, 0, 1, 0, 0, 1, 1], [1, 0, 1, 1, 0, 1, 1], [0, 1, 0, 0, 1, 1, 1], [1, 0, 0, 0, 0, 1, 0], [0, 1, 0, 0, 0, 0, 0], [1, 0, 0, 1, 0, 1, 0]]\n",
      "[[0, 1, 0, 0, 0, 1, 0], [1, 0, 0, 0, 0, 1, 1], [1, 0, 0, 0, 0, 1, 0], [1, 0, 0, 0, 0, 1, 0], [0, 0, 0, 0, 0, 1, 0], [1, 0, 0, 0, 0, 0, 0], [1, 0, 0, 1, 0, 1, 1], [0, 0, 0, 0, 0, 0, 1], [1, 0, 1, 0, 0, 1, 0], [0, 0, 1, 0, 0, 0, 0]]\n",
      "[[0], [0], [0], [1], [1], [1], [0], [0], [0], [1]]\n",
      "[[0], [1], [1], [1], [0], [0], [0], [0], [1], [0]]\n"
     ]
    }
   ],
   "source": [
    "#dividimos el dataset en train y en test, usamos el argumento stratify para tener la misma proporcion de ganador y perdedor\n",
    "#entre nuestra conjunto de test y train. Ademas el test representara el 25% del total.\n",
    "from sklearn.model_selection import train_test_split\n",
    "X_train,X_test,Y_train,Y_test = train_test_split(X_values, Y_values, stratify=Y_values, test_size=0.25)\n",
    "print(X_train[:10])\n",
    "print(X_test[:10])\n",
    "print(Y_train[:10])\n",
    "print(Y_test[:10])"
   ]
  },
  {
   "cell_type": "code",
   "execution_count": 51,
   "metadata": {
    "scrolled": true
   },
   "outputs": [
    {
     "name": "stdout",
     "output_type": "stream",
     "text": [
      "LogisticRegression(C=1.0, class_weight=None, dual=False, fit_intercept=True,\n",
      "          intercept_scaling=1, max_iter=100, multi_class='ovr', n_jobs=1,\n",
      "          penalty='l2', random_state=None, solver='liblinear', tol=0.0001,\n",
      "          verbose=0, warm_start=False)\n",
      "[[ 1.20460857  0.00491553 -0.00991309  0.61911835 -1.40869348  0.39303074\n",
      "   0.82274058]]\n"
     ]
    },
    {
     "name": "stderr",
     "output_type": "stream",
     "text": [
      "//anaconda/lib/python3.5/site-packages/sklearn/utils/validation.py:578: DataConversionWarning: A column-vector y was passed when a 1d array was expected. Please change the shape of y to (n_samples, ), for example using ravel().\n",
      "  y = column_or_1d(y, warn=True)\n"
     ]
    }
   ],
   "source": [
    "#ajusta,os el modelo de regresion logistica.\n",
    "from sklearn.linear_model import LogisticRegression\n",
    "model=LogisticRegression()\n",
    "res = model.fit(X_train, Y_train)"
   ]
  },
  {
   "cell_type": "code",
   "execution_count": 61,
   "metadata": {},
   "outputs": [
    {
     "name": "stdout",
     "output_type": "stream",
     "text": [
      "Calidad del ajuste de la regresión logística 0.7272727272727273\n"
     ]
    }
   ],
   "source": [
    "#realizamos el contraste para el test. y comprobamos el ajuste con el me\n",
    "from sklearn.metrics import  accuracy_score\n",
    "model_prediction = res.predict(X_test)\n",
    "score = accuracy_score(Y_test,model_prediction)\n",
    "print(\"Calidad del ajuste de la regresión logística {}\".format(score))"
   ]
  },
  {
   "cell_type": "code",
   "execution_count": null,
   "metadata": {},
   "outputs": [],
   "source": []
  }
 ],
 "metadata": {
  "anaconda-cloud": {},
  "kernelspec": {
   "display_name": "Python [default]",
   "language": "python",
   "name": "python3"
  },
  "language_info": {
   "codemirror_mode": {
    "name": "ipython",
    "version": 3
   },
   "file_extension": ".py",
   "mimetype": "text/x-python",
   "name": "python",
   "nbconvert_exporter": "python",
   "pygments_lexer": "ipython3",
   "version": "3.5.2"
  }
 },
 "nbformat": 4,
 "nbformat_minor": 2
}
